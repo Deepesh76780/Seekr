{
  "cells": [
    {
      "cell_type": "markdown",
      "metadata": {
        "id": "1l0YJDUjEYQM"
      },
      "source": [
        "## Video to Audio Conversion"
      ]
    },
    {
      "attachments": {},
      "cell_type": "markdown",
      "metadata": {
        "id": "WBIB2saGE6Gw"
      },
      "source": [
        "### Install necessary libraries"
      ]
    },
    {
      "cell_type": "code",
      "execution_count": 2,
      "metadata": {
        "colab": {
          "base_uri": "https://localhost:8080/"
        },
        "id": "79Bho8ddFAwY",
        "outputId": "a9174b9d-6268-4ca2-b84a-04a2cdb5fc0e"
      },
      "outputs": [
        {
          "name": "stdout",
          "output_type": "stream",
          "text": [
            "Defaulting to user installation because normal site-packages is not writeable\n",
            "Requirement already satisfied: moviepy in /home/shivam/.local/lib/python3.10/site-packages (1.0.3)\n",
            "Requirement already satisfied: tqdm<5.0,>=4.11.2 in /home/shivam/.local/lib/python3.10/site-packages (from moviepy) (4.65.0)\n",
            "Requirement already satisfied: imageio-ffmpeg>=0.2.0 in /home/shivam/.local/lib/python3.10/site-packages (from moviepy) (0.4.8)\n",
            "Requirement already satisfied: requests<3.0,>=2.8.1 in /usr/local/lib/python3.10/dist-packages (from moviepy) (2.28.2)\n",
            "Requirement already satisfied: decorator<5.0,>=4.0.2 in /home/shivam/.local/lib/python3.10/site-packages (from moviepy) (4.4.2)\n",
            "Requirement already satisfied: numpy>=1.17.3 in /home/shivam/.local/lib/python3.10/site-packages (from moviepy) (1.24.2)\n",
            "Requirement already satisfied: proglog<=1.0.0 in /home/shivam/.local/lib/python3.10/site-packages (from moviepy) (0.1.10)\n",
            "Requirement already satisfied: imageio<3.0,>=2.5 in /home/shivam/.local/lib/python3.10/site-packages (from moviepy) (2.27.0)\n",
            "Requirement already satisfied: pillow>=8.3.2 in /usr/lib/python3/dist-packages (from imageio<3.0,>=2.5->moviepy) (9.0.1)\n",
            "Requirement already satisfied: charset-normalizer<4,>=2 in /usr/local/lib/python3.10/dist-packages (from requests<3.0,>=2.8.1->moviepy) (3.1.0)\n",
            "Requirement already satisfied: urllib3<1.27,>=1.21.1 in /usr/local/lib/python3.10/dist-packages (from requests<3.0,>=2.8.1->moviepy) (1.24.3)\n",
            "Requirement already satisfied: certifi>=2017.4.17 in /usr/local/lib/python3.10/dist-packages (from requests<3.0,>=2.8.1->moviepy) (2022.12.7)\n",
            "Requirement already satisfied: idna<4,>=2.5 in /usr/local/lib/python3.10/dist-packages (from requests<3.0,>=2.8.1->moviepy) (3.4)\n",
            "Note: you may need to restart the kernel to use updated packages.\n",
            "Defaulting to user installation because normal site-packages is not writeable\n",
            "Requirement already satisfied: sentence-transformers in /home/shivam/.local/lib/python3.10/site-packages (2.2.2)\n",
            "Requirement already satisfied: tqdm in /home/shivam/.local/lib/python3.10/site-packages (from sentence-transformers) (4.65.0)\n",
            "Requirement already satisfied: transformers<5.0.0,>=4.6.0 in /home/shivam/.local/lib/python3.10/site-packages (from sentence-transformers) (4.27.4)\n",
            "Requirement already satisfied: torchvision in /usr/local/lib/python3.10/dist-packages (from sentence-transformers) (0.15.1)\n",
            "Requirement already satisfied: numpy in /home/shivam/.local/lib/python3.10/site-packages (from sentence-transformers) (1.24.2)\n",
            "Requirement already satisfied: huggingface-hub>=0.4.0 in /home/shivam/.local/lib/python3.10/site-packages (from sentence-transformers) (0.13.4)\n",
            "Requirement already satisfied: scikit-learn in /usr/local/lib/python3.10/dist-packages (from sentence-transformers) (1.2.2)\n",
            "Requirement already satisfied: sentencepiece in /home/shivam/.local/lib/python3.10/site-packages (from sentence-transformers) (0.1.97)\n",
            "Requirement already satisfied: torch>=1.6.0 in /home/shivam/.local/lib/python3.10/site-packages (from sentence-transformers) (2.0.0)\n",
            "Requirement already satisfied: scipy in /usr/local/lib/python3.10/dist-packages (from sentence-transformers) (1.10.1)\n",
            "Requirement already satisfied: nltk in /home/shivam/.local/lib/python3.10/site-packages (from sentence-transformers) (3.8.1)\n",
            "Requirement already satisfied: requests in /usr/local/lib/python3.10/dist-packages (from huggingface-hub>=0.4.0->sentence-transformers) (2.28.2)\n",
            "Requirement already satisfied: typing-extensions>=3.7.4.3 in /usr/local/lib/python3.10/dist-packages (from huggingface-hub>=0.4.0->sentence-transformers) (4.5.0)\n",
            "Requirement already satisfied: packaging>=20.9 in /usr/local/lib/python3.10/dist-packages (from huggingface-hub>=0.4.0->sentence-transformers) (23.0)\n",
            "Requirement already satisfied: pyyaml>=5.1 in /usr/lib/python3/dist-packages (from huggingface-hub>=0.4.0->sentence-transformers) (5.4.1)\n",
            "Requirement already satisfied: filelock in /home/shivam/.local/lib/python3.10/site-packages (from huggingface-hub>=0.4.0->sentence-transformers) (3.10.0)\n",
            "Requirement already satisfied: nvidia-curand-cu11==10.2.10.91 in /home/shivam/.local/lib/python3.10/site-packages (from torch>=1.6.0->sentence-transformers) (10.2.10.91)\n",
            "Requirement already satisfied: nvidia-cufft-cu11==10.9.0.58 in /home/shivam/.local/lib/python3.10/site-packages (from torch>=1.6.0->sentence-transformers) (10.9.0.58)\n",
            "Requirement already satisfied: nvidia-nccl-cu11==2.14.3 in /home/shivam/.local/lib/python3.10/site-packages (from torch>=1.6.0->sentence-transformers) (2.14.3)\n",
            "Requirement already satisfied: triton==2.0.0 in /home/shivam/.local/lib/python3.10/site-packages (from torch>=1.6.0->sentence-transformers) (2.0.0)\n",
            "Requirement already satisfied: nvidia-cuda-cupti-cu11==11.7.101 in /home/shivam/.local/lib/python3.10/site-packages (from torch>=1.6.0->sentence-transformers) (11.7.101)\n",
            "Requirement already satisfied: sympy in /home/shivam/.local/lib/python3.10/site-packages (from torch>=1.6.0->sentence-transformers) (1.11.1)\n",
            "Requirement already satisfied: nvidia-cudnn-cu11==8.5.0.96 in /home/shivam/.local/lib/python3.10/site-packages (from torch>=1.6.0->sentence-transformers) (8.5.0.96)\n",
            "Requirement already satisfied: nvidia-cuda-runtime-cu11==11.7.99 in /home/shivam/.local/lib/python3.10/site-packages (from torch>=1.6.0->sentence-transformers) (11.7.99)\n",
            "Requirement already satisfied: nvidia-cuda-nvrtc-cu11==11.7.99 in /home/shivam/.local/lib/python3.10/site-packages (from torch>=1.6.0->sentence-transformers) (11.7.99)\n",
            "Requirement already satisfied: nvidia-cublas-cu11==11.10.3.66 in /home/shivam/.local/lib/python3.10/site-packages (from torch>=1.6.0->sentence-transformers) (11.10.3.66)\n",
            "Requirement already satisfied: nvidia-cusparse-cu11==11.7.4.91 in /home/shivam/.local/lib/python3.10/site-packages (from torch>=1.6.0->sentence-transformers) (11.7.4.91)\n",
            "Requirement already satisfied: nvidia-cusolver-cu11==11.4.0.1 in /home/shivam/.local/lib/python3.10/site-packages (from torch>=1.6.0->sentence-transformers) (11.4.0.1)\n",
            "Requirement already satisfied: nvidia-nvtx-cu11==11.7.91 in /home/shivam/.local/lib/python3.10/site-packages (from torch>=1.6.0->sentence-transformers) (11.7.91)\n",
            "Requirement already satisfied: jinja2 in /usr/local/lib/python3.10/dist-packages (from torch>=1.6.0->sentence-transformers) (3.1.2)\n",
            "Requirement already satisfied: networkx in /home/shivam/.local/lib/python3.10/site-packages (from torch>=1.6.0->sentence-transformers) (3.0)\n",
            "Requirement already satisfied: setuptools in /usr/lib/python3/dist-packages (from nvidia-cublas-cu11==11.10.3.66->torch>=1.6.0->sentence-transformers) (59.6.0)\n",
            "Requirement already satisfied: wheel in /usr/lib/python3/dist-packages (from nvidia-cublas-cu11==11.10.3.66->torch>=1.6.0->sentence-transformers) (0.37.1)\n",
            "Requirement already satisfied: cmake in /home/shivam/.local/lib/python3.10/site-packages (from triton==2.0.0->torch>=1.6.0->sentence-transformers) (3.26.0)\n",
            "Requirement already satisfied: lit in /home/shivam/.local/lib/python3.10/site-packages (from triton==2.0.0->torch>=1.6.0->sentence-transformers) (15.0.7)\n",
            "Requirement already satisfied: tokenizers!=0.11.3,<0.14,>=0.11.1 in /home/shivam/.local/lib/python3.10/site-packages (from transformers<5.0.0,>=4.6.0->sentence-transformers) (0.13.3)\n",
            "Requirement already satisfied: regex!=2019.12.17 in /usr/local/lib/python3.10/dist-packages (from transformers<5.0.0,>=4.6.0->sentence-transformers) (2023.3.23)\n",
            "Requirement already satisfied: click in /usr/lib/python3/dist-packages (from nltk->sentence-transformers) (8.0.3)\n",
            "Requirement already satisfied: joblib in /usr/local/lib/python3.10/dist-packages (from nltk->sentence-transformers) (1.2.0)\n",
            "Requirement already satisfied: threadpoolctl>=2.0.0 in /usr/local/lib/python3.10/dist-packages (from scikit-learn->sentence-transformers) (3.1.0)\n",
            "Requirement already satisfied: pillow!=8.3.*,>=5.3.0 in /usr/lib/python3/dist-packages (from torchvision->sentence-transformers) (9.0.1)\n",
            "Requirement already satisfied: MarkupSafe>=2.0 in /usr/local/lib/python3.10/dist-packages (from jinja2->torch>=1.6.0->sentence-transformers) (2.1.2)\n",
            "Requirement already satisfied: charset-normalizer<4,>=2 in /usr/local/lib/python3.10/dist-packages (from requests->huggingface-hub>=0.4.0->sentence-transformers) (3.1.0)\n",
            "Requirement already satisfied: urllib3<1.27,>=1.21.1 in /usr/local/lib/python3.10/dist-packages (from requests->huggingface-hub>=0.4.0->sentence-transformers) (1.24.3)\n",
            "Requirement already satisfied: certifi>=2017.4.17 in /usr/local/lib/python3.10/dist-packages (from requests->huggingface-hub>=0.4.0->sentence-transformers) (2022.12.7)\n",
            "Requirement already satisfied: idna<4,>=2.5 in /usr/local/lib/python3.10/dist-packages (from requests->huggingface-hub>=0.4.0->sentence-transformers) (3.4)\n",
            "Requirement already satisfied: mpmath>=0.19 in /home/shivam/.local/lib/python3.10/site-packages (from sympy->torch>=1.6.0->sentence-transformers) (1.3.0)\n",
            "Note: you may need to restart the kernel to use updated packages.\n"
          ]
        }
      ],
      "source": [
        "# !pip3 install imageio==2.4.1\n",
        "# !pip install --upgrade imageio-ffmpeg\n",
        "%pip install moviepy\n",
        "%pip install -U sentence-transformers"
      ]
    },
    {
      "cell_type": "code",
      "execution_count": 3,
      "metadata": {},
      "outputs": [],
      "source": [
        "import moviepy.editor as mp\n",
        "import pandas as pd\n",
        "import numpy as np"
      ]
    },
    {
      "cell_type": "markdown",
      "metadata": {
        "id": "XXSdpVEhEqZe"
      },
      "source": [
        "### Video to Audio Conversion"
      ]
    },
    {
      "cell_type": "code",
      "execution_count": 4,
      "metadata": {
        "id": "HJ7SL4RqEpvL"
      },
      "outputs": [
        {
          "name": "stdout",
          "output_type": "stream",
          "text": [
            "MoviePy - Writing audio in converted.wav\n"
          ]
        },
        {
          "name": "stderr",
          "output_type": "stream",
          "text": [
            "                                                                        \r"
          ]
        },
        {
          "name": "stdout",
          "output_type": "stream",
          "text": [
            "MoviePy - Done.\n"
          ]
        }
      ],
      "source": [
        "clip = mp.VideoFileClip(r\"/home/shivam/Downloads/linked.mp4\") \n",
        "clip.audio.write_audiofile(r\"converted.wav\")"
      ]
    },
    {
      "attachments": {},
      "cell_type": "markdown",
      "metadata": {},
      "source": [
        "# Audio to text conversion"
      ]
    },
    {
      "attachments": {},
      "cell_type": "markdown",
      "metadata": {},
      "source": [
        "### Stt using pvleopard"
      ]
    },
    {
      "cell_type": "code",
      "execution_count": 5,
      "metadata": {},
      "outputs": [
        {
          "name": "stdout",
          "output_type": "stream",
          "text": [
            "Defaulting to user installation because normal site-packages is not writeable\n",
            "Requirement already satisfied: pvleopard in /home/shivam/.local/lib/python3.10/site-packages (1.2.1)\n",
            "Note: you may need to restart the kernel to use updated packages.\n"
          ]
        }
      ],
      "source": [
        "%pip install pvleopard\n",
        "import pvleopard\n",
        "leopard = pvleopard.create(access_key='clzWvIxwJZXvEIc4rhS9oBA3yoJ8GzcTqZfvn6KuqL/M7FPcB2HJWQ==')"
      ]
    },
    {
      "cell_type": "code",
      "execution_count": 6,
      "metadata": {},
      "outputs": [
        {
          "name": "stdout",
          "output_type": "stream",
          "text": [
            "Good morning everybody my name is Jason coup I'm going to be teaching this class in introduction to algorithms with two other instructors here faculty in the department Eric demaine and Justin Solomon their excellent people and so they will be working on teaching this class with me I will be teaching the first lecture and will have each of them teach one of the next to lectures and then we'll go from there yeah so that's this is intro to algorithms okay so we're gonna start talking about this course content now what is this course about it's about algorithms right introduction algorithms really what the course is about is teaching you to solve computational problems but it's more than that it's not just about teaching you to solve computational problems so solve one so computational problems but it's more than that it's also about communicating those solutions to others and being able to communicate that your way of solving the problem is correct and efficient okay so it's about two more things prove correctness argue efficiency and in general it's about communication communication I can't spell by the way communication of these ideas and you'll find that over the course of this class you'll be doing a lot more writing than you do in a lot of your other courses it really should maybe be a ci kind of class because you'll be doing a lot more writing than you will be coding for sure so it's really but of course solving the the computational problem is important but really the thing that you're getting out of this class and other theory classes that you're not getting in other classes in this department is that we really concentrate on being able to prove that the things you're doing are correct and better than other things and being able to communicate those ideas to others and not just to a computer right to other people convince them that is correct okay so that's what this class is about so what what do I mean when I say solve a computational problem what is a problem what is an algorithm right I know people make fun of me because I start with this question but I mean anyone want to answer that question know what's the problem computationally okay so it's not such a stupid question yeah something you want to compute okay yes that's that's true right but kind of a little bit more abstractly what I'm gonna think of a computational problem being and this is where a kind of your pre-requisite and discreet mathematics should come in right it's a problem is kind of you've got a set of inputs inputs Hey maybe I have one two three four five possible input I could have to my algorithm Hey then I have a space of outputs and maybe I don't know maybe I have more of them than I do inputs but these are the possible outputs to my my problem and what a problem is is a binary relation between these inputs and outputs essentially for each input I specify which of these outputs is correct right it doesn't necessarily have to be one right if I say give me the index in an array containing the value five there could be multiple five's in that array and so any of those indices would be correct so maybe this guy maps to that output and maybe this guy maps to I don't know two or three outputs right this input goes to one to I don't know there's a you're some kind of mapping hear these edges represent a binary relation is kind of a graph a bipartite graph between these inputs and outputs and these are specifying which of these outputs are correct for these inputs all right that's really the formal definition of what a problem is now generally if I have a problem and a computational problem I'm not going to specify the problem to you by saying okay for input one the correct answer is zero and crumpler to the correct answers three and so on and so forth that would take forever right usually what we do when defining a problem is specify some kind of predicate saying that Oh we can check if I give you an input in an output I can check whether that output is correct or not that's usually how we define a problem is if I am checking for whether this index contains a five I can just go to that array look at index five and that the index you gave me and see a fit equals five right so usually we're putting it in terms of predicates because in general we don't really want to talk about small instances of problems so let's say I had the problem of among the students in this classroom do any pair of you have the same birthday a all right well probably if there's more than three engine sixty five of you the answer is yes right right that by what pigeon-hole principal right two of you must have the same birthday right but so let's let's generalise it a little bit say that I don't know I need a bigger space of birthdays for this question to be interesting maybe attack on the year maybe I tack on the hour that you were born and that's a bigger space of inputs and I wouldn't necessarily expect that two of you would be born in the same year on the same day in the same our right that would be a little less likely in fact as long as that space is larger than something like the square of the number of you right then I'm less likely than than an even to to have a pair of you that that that's a kind of the birthday problem you may have seen in for to potentially right but in general I don't I don't I'm not gonna mess with probability so much here I want a deterministic algorithm write a way of checking whether two of you have the same birth time let's say okay so in general in this class we're not gonna concentrate on input such as is their pair of you in this class that have the same birthday that's kind of boring right I could just say well I could do a lot of different things but what we we do in this class it is for a fixed classroom of you I want to make algorithms that are general to any classroom right to go to your recitation I will now gris than that will apply to your recitation an algorithm that not only applies to this classroom but also the machine learning class before you right I want an algorithm that can change its it can accept an arbitrarily sized input right here we have a class of maybe three hundred four hundred students right but I want my algorithm to work for a billion students right like maybe I'm trying to check if there's a match of something in the Facebook database there something like that right okay so in general we are looking for general problems that have arbitrarily sized inputs right so these these inputs could grow very large but we want a kind of a fixed-size algorithm to solve those problems okay so what is an algorithm then I really can't spell taught you okay I didn't lie to you I'm so an algorithm is a little different than a problem of problem specification I can state to you what this graph or I can tell you what this graph looks like an algorithm is really I don't know what the outputs are I don't know what these edges are but well I won't want to fix size kind of machine or procedure that if I give it an input it will generate an output and if it generates an output it better be one of these correct outputs right so if I have an algorithm that takes in this input I really want it to output this output or else it's not a correct algorithm similarly for this one it could output any of these three outputs but if it outputs this guy for this input that would not be a correct algorithm right and so generally what we want is a an algorithm is a function it takes inputs to outputs write an algorithm is some kind of function right that takes these inputs maps it to a single output and that output better be correct based on our problem a so that's what our algorithm is it solves the problem if it returns a correct output for every problem input that is in our domain okay and the example for does anyone have a possible algorithm for checking whether any two of you have the same birth time as specified before I'm gonna let someone else have a try great so what your colleague has said is a great algorithm but essentially what is going to do is I'm gonna enter I'm gonna put you guys in some order and to give each of you a number one through how I may ever many number of students there are in this class and I'm gonna interview you one by one right I guess say what's your birthday any time will write it down right I'm gonna put in in some kind of record okay and then as I keep interviewing you I'm gonna find out your birthday I'm gonna check the record I'm going to look through all the birthdays in the record if I find a match right then I return yeah I found a pair and I can stop otherwise if I get through the record list I don't and I don't find a match I just stick you at the end of the record right I add you to the record and then I move on to the next person I keep doing this okay so that's that's a proposed algorithm for this birthday problem problem what's the algorithm here maintain a record interview students students in some order and what is interviewing a student mean it means to things it means check birthday in record and if it is return a pair return here otherwise add new student record and then at the very end if I go through everybody and I haven't found a match yet I got to return that there is none okay so that's a statement of an algorithm that's kind of the level of description that will be looking for you in the theory parts of this theory questions that we ask you on your problem sets right it's a verbal description in words that you know it's maybe not enough for a computer to know what to do but if you said this algorithm to any of your for your friends in this class right they would at least understand what it is that you're doing yeah pure function in the does an algorithm have to be a pure function in mathematical sense as in it needs to map to a single output so where were talking about kind of a functional programming definition of a of of a function right this is I'm I am talking about the mathematical I have a binary relation and this thing has an output for every input and there is exactly one output to every input that's that's the mathematical definition of function that I'm using for when I'm defining an album yeah and algorithms a procedure that somehow I can do whatever I want but I have to take one of these inputs and have to produce an output and at the end it better be correct right so it's just a procedure you can think of it as like a recipe you can think of it it's just some kind of procedure right it's a sequence of things that you should do and then at the end you will return an output okay so here's a possible algorithm for solving this birthday problem now I have given you what I argue to you or I'm asserting to you is a solution to this birthday problem and maybe you guys agree with me and maybe some of you don't write so how do I convince you that this is correct right well if I had you know if I was just running this algorithm on say the four students in the front row here right I could argue it pretty well to you I could go through every you know I could assign these four people birthdays in various combinations of either there none of them have the same birthday some two of them have the same birthday I could try all possibilities and I could go through lots of different possibilities I check that this algorithm returns the right answer in all such cases right but when I have I don't know three hundred of you that's going to be a little bit more difficult to argue and so if I want to argue something is correct in mma thumb at I want to prove something to you for some large value what kind of technique do I use to prove such things yeah induction right and in general what what we do in this class what we do it as a computer scientist as we write a constant sized piece of code right that can take on any arbitrarily large size input right if it's if the input can be arbitrary large but our code is small then that code needs to loop or recurse or repeat some of these lines of code in order to just read that output right and so that's another way you can arrive at this conclusion that we're going to probably need to use recursion induction and that's part of the reason why we ask you to take a course on proofs and and inductive reasoning and discreet mathematics before this class okay so how do we prove that this thing is correct we got to use induction so how can we set up this induction what do I need for an inductive proof base case we need a base case we need some kind of a predicate yeah but we need some kind of statement of a hypothesis of something that should be maintained right and then we need to have an inductive step which basically says I take a small value of this thing I use the inductive hypothesis and I argue it for a larger value of my well-ordered set that I'm inducting over right okay so in for this algorithm if we're gonna try to prove correctness what I'm gonna do is I'm going to what do I want to prove for this thing that at the end of interviewing all of you that my algorithm has either already it has returned with the pair that match or if we're in a case where there wasn't a mat it wasn't a pair somewhere in my set that it returned none right that would be correct right so how can I generalise that concept to make it something I can induct on right what I'm going to do is I'm going to say let's say after I've interviewed the first K students if there was a match in those first K students I want to be sure that I've returned to pare right because if after I interview all of you I've maintained that property then I'll be sure at the end of the process I will have returned a pair of one exist so here's going to be my inductive hypothesis is a if first a student's contain a match algorithm returns a match before interviewing a student K plus one so that's going to be my inductive hypothesis now if there's an students in this class right and at the end of my thing I'm trying to interview student en plus one student en plus ones not there if I have maintained this then if I replace K within then I will have returned to match before interviewing the last student or the when I have no more students left and then this algorithm returns none as it should write a so this inductive hypothesis sets up a nice variable to induct on right this K I can have increasing up to en starting at some base case so what's my base case here my base case is the easiest thing I can do sure to that's an easy thing I could do I could check those possibilities but there's an even easier base case yeah there's an even easier base case than one zero right after interviewing zero students I have done a new work right certainly the first zero can't have a match right and so this predicate this inductive hypothesis this is true just because this initial predicate is false right so I can say you know this case zero check definitely this predicate holds for that now we get to go for the the meat of this thing right assume the inductive hypothesis true for K equals say some K prime Kay and were considering K prime plus one right then we have two cases one of the nice things about induction is that it isolates are our problem to not consider everything all at once but break it down into a smaller in interface so I can do less work at each step right so there are two cases either the first K already had a match right in which case by our inductive hypothesis we've already returned to correct answer right the other case is it doesn't have a match and we interview the capelets one student the cape prime plus one student if there is a match in the first cape prime plus one students then it will include capless K prime plus one the student cape ran plus one because otherwise there would have been imagine in the things before it right so there are two cases if a contains match a prime at first K contains match already returned turn turned by induction else if a prime plus one students contains match the algorithm checks all of the possibilities K prime checks cape against against students essentially by brute force it's a case analysis I check all of the possible possibilities right this check if birthday is in record I haven't told you how to do that yet but if I'm able to do that I'm going to check if it's in the record if it's in the record then there will be imagined I couldn't return it otherwise I have reestablished the inductive high policy hypothesis for the cape pride plus one students that make sense yeah okay so that's how we prove correctness this is a little bit more formal than we would ask you to do in this class all the time but it's definitely sufficient you know for the levels of arguments that we will ask you to do the bar that were usually trying to set is if you communicated to someone else taking this class what your algorithm was they would be able to code it up and tell a stupid computer how to do that thing so any any questions on induction you're going to be using it throughout this class and so if you are unfamiliar with this line of argument then you should go review some of that that would be good okay so that's correctness being able to communicate that the the problem the algorithm we stated was correct now we want to argue that it's efficient right what is efficiency mean efficiency just means not only how fast does this algorithm run but how fast does it compare to other possible ways of approaching this problem right so how could we measure how fast an algorithm runs this is kind of a silly question yeah yeah just well I mean just record the time it takes for a computer to do this thing right now there's a problem with just coding up an algorithm telling a computer what to do and timing how long it takes why it would depend on the size of your data set okay we expect that but there's a bigger problem there yeah it depends on the strength of your computer right so I would expect that I'm you know if I had a watch calculator and I programmed it to do something that might take a lot longer to solve a problem than if I asked you know IBM's research computer right to solve the same problem using the same algorithm even with the same code right because its underlying operations are much faster right how it runs as much faster so I don't want to count how long it would take on a real machine I kind of want to abstract the time it takes the machines to do stuff out of the picture what I can't want to say is let's assume that each kind of fundamental operation that the computer can do take some fixed amount of time okay how many of those kinds of fixed operations does the algorithm need to perform to be able to solve this problem right so here we don't don't measure time instead count kind of fundamental operations okay we'll get to what some of those fundamental operations are in a second but the idea is we want a measure of how well an algorithm performs not necessarily an implementation of that algorithm right kind of an abstract notion of how well this algorithm does and so what we're going to use to measure time or efficiency right is something called asymptotic analysis anyone here understand what asymptotic analysis is probably since it's in both of your prerequisites I think but we will go through a formal definition of asymptotic notation in a recitation tomorrow and you'll get a lot of practice in comparing functions using an asymptotic analysis but just to give you an idea right the idea here is we don't measure timely instead measure ops and like your colleague over here was saying before we expect performance I mean to use performance instead of time here we expect that to depend on size of our input right if we're trying to run an algorithm to find a birthday in this section we expect the algorithm to run in a shorter amount of time then if I were to run the algorithm on all of you write so we expect it to perform differently depending on the size of the input and how differently is how we measure performance relative that it usually we use en as a variable for what the size of our input is right but that's not always the case so for example if we have a an array that I give you an end by en ray that we're gonna say en but what's the size of our input how much information do I need to convey to you to give you that information its ends squared right so that's the size of our input in that that context right or if I give you a graph it's usually the number of vertices plus the number of edges that's how big it how much space I would need to convey to you that graph that information okay so you we compare how fast an algorithm is with respect to the size of the input right and if that will use the asymptotic notation we have big o notation which corresponds to upper bounds will have omega which corresponds to lower bounds and we have theta which corresponds to both right this thing is tight it is bounded from above and below by a function of this form now we have a couple common ways come a couple common functions that algorithms they're running time we have a couple common functions that relate an algorithms input size to its performance some some things that we saw the time does can anyone give me some of those Sagan sorry sorry so like a function I'm not asking this question well but has anyone heard of a linear algorithm a linear time algorithm right that's basically saying that the side that the running time of my Algeron the performance of my algorithm is linear with respect to the size of my input right yeah say again like putting something in a list okay so that's there's there's a lot behind that question that we'll go into later this week but that's an example of if I do it in a silly way I stick something in the middle of a list and I have to move everything that's an operation that could take linear time right so a linear time is is a type of function we've got a number of these I'm gonna start with this one does anyone know what this one is constant time K basically no matter how I changed the input the amount of time this running time the the performance of my algorithm takes it doesn't really depend on that okay the next one up is something like this this is logarithmic time a we have data en which is linear and log in right sometimes we call this log linear but we usually just say and log in we have a quadratic running time in general if I have a constant power up here its end to the sea for some constant this is what we call polynomial time right were as long as see is some constant and this right here is what we mean by efficient in this class usually right into other classes right when your big data sets maybe this is efficient right but in this class generally what we mean is polynomial and as you get down this thing these are things are more and more efficient Hey there's one class I'm gonna talk to you about over here which is something like let's do this to to the theta of a'right exponential time this is some constant to a function of n that's say super linear that's going to be you know pretty bad why is it pretty bad if I were to plot some of these things as a function of n right let's say I plot values of up to a thousand on on my en scale hear what is constant look like maybe this is a thousand up here what does a constant look like looks like a line right it looks like a line over here somewhere it could be as high as I want but eventually anything that's an increasing function will get bigger than this right and on this scale if I use log base to are some reasonable small constant what is log look like well let's let's to an easier one what is linear look like this right that's what are you doing a that's linear that's the kind of base that we are comparing everything against what does log look like this okay but on at this scale right at this scale really it's much closer to constant than linear and actually as en gets much much larger this almost looks like a straight line it almost looks like the constant so log is almost just as good as constant right what is exponential look like it's the exact inverse of this thing right right it's almost an exact straight line going up right so this is crap this is really good almost anything in this region over here is better right at least I'm gaining something I'm not I'm I'm able to not go up to high relative to my input size so quadratic I don't know something like this and in log in is something like this and log-in after a long time really start just looking linear with a constant multiplied in front of it right okay so these things good that thing bad okay that's what that's trying to convey all right so how do we measure these things if if I don't know what my fundamental operations are that my computer can can can use right so we need to define some kind of model of computation for what our computer is allowed to do in constant time in a fixed amount of time right in general what we use in this classes as a machine called a word ram which we you no use for its theoretical brevity right word ram kind of a loaded term what are these things mean it means I have what it can some to summon no ran means random access memory right it means that I can randomly access different places in memory in constant time that's that's the assumption of random access memory basically what our model of a computer is as you have memory me which is essentially just a string of its it's just a bunch of ones and zeros right and we have a computer like a CPU right which is really small it can basically hold a small amount of information but it can change that information right it can operate on that information and it also has instructions to randomly access different places in memory bring it into the CPU act on it and read it back that makes sense but in general we don't have an address for every bit in memory every zero and one in memory we actually did does anyone know how modern computers are addressed okay so so we're going to get there actually what a modern computer is addressed in his bites okay collections of eight bits so there's an address I have for every eight bits and memory consecutive eight bits in memory and so if I want to pull something in into the CPU I give it an address it'll take some chunk right and bring into the the CPU operated on and spit it back okay how big is that chunk this goes to the answer that you are asking which were saying which is its some sequence of some fixed number of bits which we call a word okay a word is how how big of a chunk that the the CPU can take in from memory at a time and operate on okay in your computer's how big is that word says sixty for bits right that's how much I can operate on a time when I was growing up when I was your age a my word size with thirty to bits and that actually was a problem for my computer because in order for me to be able to read to address in memory I need to be of the store that address in my CPU in a word right but if I have thirty to bits how many different addresses can I address I have a limitation on the memory addresses I can address right so how many different memory addresses can I address with thirty to bits to to the thirty to write that makes sense well if you do that calculation out how big of a hard disk can I have to access it's about for gigabytes right so when in my day all the hard drives were limited to you know being partition even if you had a bigger than for giggle by hard drive I had to partition it into these four gigabyte chunks which you know the the computer could then read on to write that was very limiting actually that's a restriction with sixty for bits what's my limitation on memory that I can address bite addressable turns out to be something like a twenty exabytes to put this in context all data that Google stores on their servers on all drives throughout the world it's about ten right so we're not gonna run out of this limitation very soon right so what do we got we got a CPU it can address memory what are the operations I can do in this CPU generally I have binary operations I can compare two words in memory and I can either do you know integer arithmetic kind of logical operations bitwise operations but we're not gonna use those so much in this class and I can read and write from the an address in memory a word in constant time those are the operations that I have available to me on most CPU's some CPU's give you a little bit more power but this is generally what we analyze algorithms with respect to okay but you'll notice that my CPU is only built to operate on a constant amount of information at once generally two words in memory operation produces a third one and I spit it out right it takes a constant amount of time to operate on a constant amount of memory if I want to operate on a linear amount of memory and things how long is that going to take right if I just want to read everything in that thing it's going to take me linear time right because I have to read every part of that thing a so in general what we're going to do for the first half of this class mostly first eight lectures anyway is talk about data structures and it's going to be concerned about not operating on constant amount of data at a time like our CPU is doing but instead what it's going to do is operate on store a large amount of data and support different operations on that data okay so if I had a record that I want to maintain to store those birthdays that we had before I might use something like a static array right which you guys maybe are not familiar with if you have been working in python as you're only programming language a python has a lot of really interesting data structures like a list and a set and the dictionary and all these kinds of things that are actually not in this model there's actually a lot of code between you and the computer and it's not always clear how much time that interface is taking right and so we're going to do starting on Thursday is talk about ways of storing a nonconstant amount of information to make operations on that information faster so just before you go I just want to give you a quick overview of the class to solve an algorithms class and algorithm problem in this class we essentially have two different strategies we can neither reduce using the solution to a problem we know it assault or we can design our own algorithm which is going to be recursive in nature we can either put stuff in the data structure and solve the sorting problem or search in a graph and then to design a recursive algorithm we have various designed paradigms this is all in your notes but this is essentially the structure of the class were gonna spend quiz one the first eight lectures on data structures and sorting second quiz will be on shortest paths algorithms and graphs and then the last one will be on dynamic programming okay that's the end of the first lecture thanks for coming\n"
          ]
        }
      ],
      "source": [
        "transcript, words = leopard.process_file('converted.wav')\n",
        "print(transcript)"
      ]
    },
    {
      "attachments": {},
      "cell_type": "markdown",
      "metadata": {},
      "source": [
        "# Decreasing the search space"
      ]
    },
    {
      "attachments": {},
      "cell_type": "markdown",
      "metadata": {},
      "source": [
        "### Employing TF-IDF "
      ]
    },
    {
      "cell_type": "code",
      "execution_count": 7,
      "metadata": {},
      "outputs": [],
      "source": [
        "import nltk\n",
        "from nltk.corpus import stopwords\n",
        "from sklearn.feature_extraction.text import TfidfVectorizer"
      ]
    },
    {
      "cell_type": "code",
      "execution_count": 8,
      "metadata": {},
      "outputs": [
        {
          "name": "stderr",
          "output_type": "stream",
          "text": [
            "[nltk_data] Downloading package stopwords to /home/shivam/nltk_data...\n",
            "[nltk_data]   Package stopwords is already up-to-date!\n"
          ]
        },
        {
          "data": {
            "text/plain": [
              "True"
            ]
          },
          "execution_count": 8,
          "metadata": {},
          "output_type": "execute_result"
        }
      ],
      "source": [
        "nltk.download('stopwords')"
      ]
    },
    {
      "cell_type": "code",
      "execution_count": 9,
      "metadata": {},
      "outputs": [],
      "source": [
        "vectorizer = TfidfVectorizer(max_features=10,stop_words=stopwords.words('english'))    "
      ]
    },
    {
      "cell_type": "code",
      "execution_count": null,
      "metadata": {},
      "outputs": [],
      "source": []
    },
    {
      "cell_type": "code",
      "execution_count": 10,
      "metadata": {},
      "outputs": [
        {
          "data": {
            "text/html": [
              "<div>\n",
              "<style scoped>\n",
              "    .dataframe tbody tr th:only-of-type {\n",
              "        vertical-align: middle;\n",
              "    }\n",
              "\n",
              "    .dataframe tbody tr th {\n",
              "        vertical-align: top;\n",
              "    }\n",
              "\n",
              "    .dataframe thead th {\n",
              "        text-align: right;\n",
              "    }\n",
              "</style>\n",
              "<table border=\"1\" class=\"dataframe\">\n",
              "  <thead>\n",
              "    <tr style=\"text-align: right;\">\n",
              "      <th></th>\n",
              "      <th>algorithm</th>\n",
              "      <th>class</th>\n",
              "      <th>kind</th>\n",
              "      <th>like</th>\n",
              "      <th>okay</th>\n",
              "      <th>one</th>\n",
              "      <th>problem</th>\n",
              "      <th>right</th>\n",
              "      <th>time</th>\n",
              "      <th>want</th>\n",
              "    </tr>\n",
              "  </thead>\n",
              "  <tbody>\n",
              "    <tr>\n",
              "      <th>0</th>\n",
              "      <td>0.320202</td>\n",
              "      <td>0.172416</td>\n",
              "      <td>0.172416</td>\n",
              "      <td>0.166259</td>\n",
              "      <td>0.221678</td>\n",
              "      <td>0.21552</td>\n",
              "      <td>0.240151</td>\n",
              "      <td>0.763558</td>\n",
              "      <td>0.21552</td>\n",
              "      <td>0.166259</td>\n",
              "    </tr>\n",
              "  </tbody>\n",
              "</table>\n",
              "</div>"
            ],
            "text/plain": [
              "   algorithm     class      kind      like      okay      one   problem  \\\n",
              "0   0.320202  0.172416  0.172416  0.166259  0.221678  0.21552  0.240151   \n",
              "\n",
              "      right     time      want  \n",
              "0  0.763558  0.21552  0.166259  "
            ]
          },
          "execution_count": 10,
          "metadata": {},
          "output_type": "execute_result"
        }
      ],
      "source": [
        "corpus = [ transcript]\n",
        "X = vectorizer.fit_transform(corpus).todense()\n",
        "df = pd.DataFrame(X, columns=vectorizer.get_feature_names_out())\n",
        "df"
      ]
    },
    {
      "cell_type": "code",
      "execution_count": 11,
      "metadata": {},
      "outputs": [
        {
          "data": {
            "text/plain": [
              "array(['algorithm', 'class', 'kind', 'like', 'okay', 'one', 'problem',\n",
              "       'right', 'time', 'want'], dtype=object)"
            ]
          },
          "execution_count": 11,
          "metadata": {},
          "output_type": "execute_result"
        }
      ],
      "source": [
        "X1 = np.array(X).flatten()\n",
        "X2  = vectorizer.get_feature_names_out().flatten()\n",
        "X2"
      ]
    },
    {
      "cell_type": "code",
      "execution_count": 12,
      "metadata": {},
      "outputs": [
        {
          "data": {
            "text/plain": [
              "[array([0.7635577996483698, 'right'], dtype=object),\n",
              " array([0.3202016579170583, 'algorithm'], dtype=object),\n",
              " array([0.2401512434377937, 'problem'], dtype=object),\n",
              " array([0.22167807086565572, 'okay'], dtype=object),\n",
              " array([0.21552034667494308, 'one'], dtype=object),\n",
              " array([0.21552034667494308, 'time'], dtype=object),\n",
              " array([0.17241627733995446, 'class'], dtype=object),\n",
              " array([0.17241627733995446, 'kind'], dtype=object),\n",
              " array([0.1662585531492418, 'like'], dtype=object),\n",
              " array([0.1662585531492418, 'want'], dtype=object)]"
            ]
          },
          "execution_count": 12,
          "metadata": {},
          "output_type": "execute_result"
        }
      ],
      "source": [
        "arr = np.array([X1,X2]).T\n",
        "arr=sorted(arr,key=lambda x:x[0],reverse=True)\n",
        "arr"
      ]
    },
    {
      "attachments": {},
      "cell_type": "markdown",
      "metadata": {},
      "source": [
        "# Making chunks"
      ]
    },
    {
      "cell_type": "code",
      "execution_count": 13,
      "metadata": {},
      "outputs": [],
      "source": [
        "import os\n",
        "try :\n",
        "    os.mkdir('chunks')\n",
        "except: \n",
        "    pass"
      ]
    },
    {
      "cell_type": "code",
      "execution_count": 14,
      "metadata": {},
      "outputs": [
        {
          "name": "stdout",
          "output_type": "stream",
          "text": [
            "Defaulting to user installation because normal site-packages is not writeable\n",
            "Requirement already satisfied: pydub in /home/shivam/.local/lib/python3.10/site-packages (0.25.1)\n",
            "Note: you may need to restart the kernel to use updated packages.\n"
          ]
        }
      ],
      "source": [
        "%pip install pydub"
      ]
    },
    {
      "cell_type": "code",
      "execution_count": 17,
      "metadata": {},
      "outputs": [
        {
          "name": "stdout",
          "output_type": "stream",
          "text": [
            "exporting ./chunks/0chunk.wav\n",
            "exporting ./chunks/1chunk.wav\n",
            "exporting ./chunks/2chunk.wav\n",
            "exporting ./chunks/3chunk.wav\n",
            "exporting ./chunks/4chunk.wav\n",
            "exporting ./chunks/5chunk.wav\n",
            "exporting ./chunks/6chunk.wav\n",
            "exporting ./chunks/7chunk.wav\n",
            "exporting ./chunks/8chunk.wav\n",
            "exporting ./chunks/9chunk.wav\n",
            "exporting ./chunks/10chunk.wav\n",
            "exporting ./chunks/11chunk.wav\n",
            "exporting ./chunks/12chunk.wav\n",
            "exporting ./chunks/13chunk.wav\n",
            "exporting ./chunks/14chunk.wav\n",
            "exporting ./chunks/15chunk.wav\n",
            "exporting ./chunks/16chunk.wav\n",
            "exporting ./chunks/17chunk.wav\n",
            "exporting ./chunks/18chunk.wav\n",
            "exporting ./chunks/19chunk.wav\n",
            "exporting ./chunks/20chunk.wav\n",
            "exporting ./chunks/21chunk.wav\n",
            "exporting ./chunks/22chunk.wav\n",
            "exporting ./chunks/23chunk.wav\n",
            "exporting ./chunks/24chunk.wav\n",
            "exporting ./chunks/25chunk.wav\n",
            "exporting ./chunks/26chunk.wav\n",
            "exporting ./chunks/27chunk.wav\n"
          ]
        }
      ],
      "source": [
        "from pydub import AudioSegment\n",
        "from pydub.utils import make_chunks\n",
        "\n",
        "myaudio = AudioSegment.from_file(\"converted.wav\" , \"wav\") \n",
        "chunk_length_ms = 100000 # pydub calculates in millisec\n",
        "chunks = make_chunks(myaudio, chunk_length_ms) #Make chunks of 100 sec\n",
        "\n",
        "#Export all of the individual chunks as wav files\n",
        "chunks_list=[]\n",
        "for i, chunk in enumerate(chunks):\n",
        "    chunk_name = \"./chunks/{0}chunk.wav\".format(i)\n",
        "    print (\"exporting\", chunk_name)\n",
        "    chunk.export(chunk_name, format=\"wav\")\n",
        "    chunks_list.append(chunk_name)"
      ]
    },
    {
      "cell_type": "code",
      "execution_count": 18,
      "metadata": {},
      "outputs": [
        {
          "data": {
            "text/plain": [
              "['./chunks/0chunk.wav',\n",
              " './chunks/1chunk.wav',\n",
              " './chunks/2chunk.wav',\n",
              " './chunks/3chunk.wav',\n",
              " './chunks/4chunk.wav',\n",
              " './chunks/5chunk.wav',\n",
              " './chunks/6chunk.wav',\n",
              " './chunks/7chunk.wav',\n",
              " './chunks/8chunk.wav',\n",
              " './chunks/9chunk.wav',\n",
              " './chunks/10chunk.wav',\n",
              " './chunks/11chunk.wav',\n",
              " './chunks/12chunk.wav',\n",
              " './chunks/13chunk.wav',\n",
              " './chunks/14chunk.wav',\n",
              " './chunks/15chunk.wav',\n",
              " './chunks/16chunk.wav',\n",
              " './chunks/17chunk.wav',\n",
              " './chunks/18chunk.wav',\n",
              " './chunks/19chunk.wav',\n",
              " './chunks/20chunk.wav',\n",
              " './chunks/21chunk.wav',\n",
              " './chunks/22chunk.wav',\n",
              " './chunks/23chunk.wav',\n",
              " './chunks/24chunk.wav',\n",
              " './chunks/25chunk.wav',\n",
              " './chunks/26chunk.wav',\n",
              " './chunks/27chunk.wav']"
            ]
          },
          "execution_count": 18,
          "metadata": {},
          "output_type": "execute_result"
        }
      ],
      "source": [
        "chunks_list"
      ]
    },
    {
      "attachments": {},
      "cell_type": "markdown",
      "metadata": {},
      "source": [
        "# Encoding the various chunks"
      ]
    },
    {
      "cell_type": "code",
      "execution_count": 23,
      "metadata": {},
      "outputs": [],
      "source": [
        "from sentence_transformers import SentenceTransformer\n",
        "model = SentenceTransformer('all-MiniLM-L6-v2')"
      ]
    },
    {
      "cell_type": "code",
      "execution_count": 21,
      "metadata": {},
      "outputs": [],
      "source": [
        "sentences=[]\n",
        "for x in chunks_list:    \n",
        "    tsc, words = leopard.process_file(x)\n",
        "    sentences.append(tsc)"
      ]
    },
    {
      "cell_type": "code",
      "execution_count": 24,
      "metadata": {},
      "outputs": [],
      "source": [
        "\n",
        "sentence_embeddings = model.encode(sentences)"
      ]
    },
    {
      "cell_type": "code",
      "execution_count": 25,
      "metadata": {},
      "outputs": [
        {
          "data": {
            "text/plain": [
              "(28, 384)"
            ]
          },
          "execution_count": 25,
          "metadata": {},
          "output_type": "execute_result"
        }
      ],
      "source": [
        "sentence_embeddings.shape"
      ]
    },
    {
      "cell_type": "code",
      "execution_count": 26,
      "metadata": {},
      "outputs": [
        {
          "data": {
            "text/plain": [
              "(384,)"
            ]
          },
          "execution_count": 26,
          "metadata": {},
          "output_type": "execute_result"
        }
      ],
      "source": [
        "query = ['algorithm problem']\n",
        "\n",
        "query_embedding = model.encode(query).reshape(1, -1)\n",
        "query_embedding[0].shape"
      ]
    },
    {
      "attachments": {},
      "cell_type": "markdown",
      "metadata": {},
      "source": [
        "# Applying cosine similarity"
      ]
    },
    {
      "cell_type": "code",
      "execution_count": 27,
      "metadata": {},
      "outputs": [
        {
          "name": "stdout",
          "output_type": "stream",
          "text": [
            "0.33584172\n",
            "0.26900294\n",
            "0.32595578\n",
            "0.26785132\n",
            "0.28343552\n",
            "0.46457997\n",
            "0.47252163\n",
            "0.45274082\n",
            "0.22316939\n",
            "0.40343967\n",
            "0.15847988\n",
            "0.32861745\n",
            "0.22016829\n",
            "0.22356342\n",
            "0.29657552\n",
            "0.2722554\n",
            "0.23051089\n",
            "0.3096066\n",
            "0.2104142\n",
            "0.28147027\n",
            "0.034395248\n",
            "0.047312602\n",
            "0.050770845\n",
            "0.115280785\n",
            "0.10401398\n",
            "0.14482424\n",
            "0.2371611\n",
            "0.39728472\n"
          ]
        }
      ],
      "source": [
        "import numpy as np\n",
        "from numpy.linalg import norm\n",
        "\n",
        "for i in range(len(sentences)):\n",
        "    cosine = np.dot(sentence_embeddings[i],query_embedding[0])/(norm(sentence_embeddings[i])*norm(query_embedding[0]))\n",
        "    print(cosine)"
      ]
    },
    {
      "cell_type": "code",
      "execution_count": 18,
      "metadata": {},
      "outputs": [],
      "source": [
        "# Based on the cosine similarity, we can get the top 5 sentences. The last audio chunk correlates mostly to the given query by user."
      ]
    }
  ],
  "metadata": {
    "colab": {
      "provenance": []
    },
    "kernelspec": {
      "display_name": "Python 3",
      "language": "python",
      "name": "python3"
    },
    "language_info": {
      "codemirror_mode": {
        "name": "ipython",
        "version": 3
      },
      "file_extension": ".py",
      "mimetype": "text/x-python",
      "name": "python",
      "nbconvert_exporter": "python",
      "pygments_lexer": "ipython3",
      "version": "3.10.6"
    },
    "vscode": {
      "interpreter": {
        "hash": "80ba4016e8ec853d7b55d6915013d2adae47c4b5f908295f8089a04cc277b65d"
      }
    }
  },
  "nbformat": 4,
  "nbformat_minor": 0
}
