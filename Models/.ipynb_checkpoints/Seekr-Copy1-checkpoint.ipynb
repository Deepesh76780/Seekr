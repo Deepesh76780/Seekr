{
 "cells": [
  {
   "cell_type": "markdown",
   "id": "d4dd705e",
   "metadata": {},
   "source": [
    "# Youtube Video Preprocessing"
   ]
  },
  {
   "cell_type": "code",
   "execution_count": 3,
   "id": "47ee0a08",
   "metadata": {},
   "outputs": [],
   "source": [
    "#Importing Youtube module\n",
    "from pytube import YouTube "
   ]
  },
  {
   "cell_type": "code",
   "execution_count": 6,
   "id": "d3488620",
   "metadata": {},
   "outputs": [
    {
     "data": {
      "text/plain": [
       "'/home/shivam/Documents/Hackfest/Seekr/Models/LjhCEhWiKXk.mp4'"
      ]
     },
     "execution_count": 6,
     "metadata": {},
     "output_type": "execute_result"
    }
   ],
   "source": [
    "#Downloading a Youtube Video\n",
    "link=\"https://youtu.be/LjhCEhWiKXk\"\n",
    "yt = YouTube(link)\n",
    "filename=link.split(\"/\")[-1]+\".mp4\"\n",
    "#Choosing a 360p MP4 video\n",
    "mp4_files = yt.streams.filter(file_extension=\"mp4\").get_by_resolution(\"360p\")\n",
    "mp4_files.download(filename=filename)"
   ]
  },
  {
   "cell_type": "markdown",
   "id": "d9c0f7e3",
   "metadata": {},
   "source": [
    "# Extracting Frames"
   ]
  },
  {
   "cell_type": "code",
   "execution_count": 9,
   "id": "821e466f",
   "metadata": {},
   "outputs": [],
   "source": [
    "#Importing CV2\n",
    "import cv2"
   ]
  },
  {
   "cell_type": "code",
   "execution_count": 25,
   "id": "d7da050a",
   "metadata": {},
   "outputs": [],
   "source": [
    "#Capturing Frames into an Array\n",
    "cap = cv2.VideoCapture(filename)\n",
    "video_frames=[]\n",
    "N=60 #Skip Frames\n",
    "frame_num=0\n",
    "while cap.isOpened():\n",
    "    ret, frame = cap.read()\n",
    "    if not ret:\n",
    "        break\n",
    "    video_frames.append(Image.fromarray(frame[:, :, ::-1]))\n",
    "    frame_num += N\n",
    "    cap.set(cv2.CAP_PROP_POS_FRAMES, frame_num) #Skipping Frames\n",
    "cap.release()"
   ]
  },
  {
   "cell_type": "code",
   "execution_count": 27,
   "id": "00517801",
   "metadata": {},
   "outputs": [
    {
     "data": {
      "text/plain": [
       "95"
      ]
     },
     "execution_count": 27,
     "metadata": {},
     "output_type": "execute_result"
    }
   ],
   "source": [
    "len(video_frames)"
   ]
  },
  {
   "cell_type": "markdown",
   "id": "3dda9b80",
   "metadata": {},
   "source": [
    "# Frame Summarization"
   ]
  },
  {
   "cell_type": "code",
   "execution_count": 28,
   "id": "28da09d0",
   "metadata": {},
   "outputs": [],
   "source": [
    "import torch\n",
    "import clip\n",
    "from PIL import Image\n",
    "import math\n",
    "import numpy \n",
    "\n",
    "device = \"cuda\" if torch.cuda.is_available() else \"cpu\"\n",
    "model, preprocess = clip.load(\"ViT-B/32\", device=device)"
   ]
  },
  {
   "cell_type": "code",
   "execution_count": 32,
   "id": "7074fb88",
   "metadata": {},
   "outputs": [
    {
     "data": {
      "text/plain": [
       "Compose(\n",
       "    Resize(size=224, interpolation=bicubic, max_size=None, antialias=warn)\n",
       "    CenterCrop(size=(224, 224))\n",
       "    <function _convert_image_to_rgb at 0x7faaef1364d0>\n",
       "    ToTensor()\n",
       "    Normalize(mean=(0.48145466, 0.4578275, 0.40821073), std=(0.26862954, 0.26130258, 0.27577711))\n",
       ")"
      ]
     },
     "execution_count": 32,
     "metadata": {},
     "output_type": "execute_result"
    }
   ],
   "source": [
    "preprocess"
   ]
  },
  {
   "cell_type": "code",
   "execution_count": 29,
   "id": "6aa6b9dc",
   "metadata": {},
   "outputs": [
    {
     "name": "stdout",
     "output_type": "stream",
     "text": [
      "Processing batch 1/1\n",
      "Features Shape: torch.Size([95, 512])\n"
     ]
    }
   ],
   "source": [
    "batch_size = 256\n",
    "batches = math.ceil(len(video_frames) / batch_size)\n",
    "video_features = torch.empty([0, 512], dtype=torch.float16).to(device) \n",
    "#To Store Encoded Frames\n",
    "\n",
    "#Frames Processing\n",
    "for i in range(batches):\n",
    "    print(f\"Processing batch {i+1}/{batches}\")\n",
    "    batch_frames = video_frames[i*batch_size : (i+1)*batch_size]\n",
    "    batch_preprocessed = torch.stack([preprocess(frame) for frame in batch_frames]).to(device)\n",
    "    with torch.no_grad():\n",
    "        batch_features = model.encode_image(batch_preprocessed)\n",
    "        batch_features /= batch_features.norm(dim=-1, keepdim=True)\n",
    "    video_features = torch.cat((video_features, batch_features))\n",
    "# Print some stats\n",
    "print(f\"Features Shape: {video_features.shape}\")"
   ]
  },
  {
   "cell_type": "code",
   "execution_count": 31,
   "id": "808e8e8c",
   "metadata": {},
   "outputs": [
    {
     "data": {
      "text/plain": [
       "torch.Size([95, 512])"
      ]
     },
     "execution_count": 31,
     "metadata": {},
     "output_type": "execute_result"
    }
   ],
   "source": [
    "video_features.shape"
   ]
  },
  {
   "cell_type": "code",
   "execution_count": null,
   "id": "5e1dba55",
   "metadata": {},
   "outputs": [],
   "source": []
  }
 ],
 "metadata": {
  "kernelspec": {
   "display_name": "Python 3 (ipykernel)",
   "language": "python",
   "name": "python3"
  },
  "language_info": {
   "codemirror_mode": {
    "name": "ipython",
    "version": 3
   },
   "file_extension": ".py",
   "mimetype": "text/x-python",
   "name": "python",
   "nbconvert_exporter": "python",
   "pygments_lexer": "ipython3",
   "version": "3.10.6"
  }
 },
 "nbformat": 4,
 "nbformat_minor": 5
}
