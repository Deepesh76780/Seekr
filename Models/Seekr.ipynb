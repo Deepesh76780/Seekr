{
 "cells": [
  {
   "cell_type": "markdown",
   "id": "d4dd705e",
   "metadata": {},
   "source": [
    "# Youtube Video Preprocessing"
   ]
  },
  {
   "cell_type": "code",
   "execution_count": null,
   "id": "6e3335b1",
   "metadata": {},
   "outputs": [],
   "source": [
    "#Importing Youtube module|\n",
    "from pytube import YouTube "
   ]
  },
  {
   "cell_type": "code",
   "execution_count": null,
   "id": "40a8849f",
   "metadata": {},
   "outputs": [],
   "source": [
    "#Downloading a Youtube Video\n",
    "link=\"https://youtu.be/LjhCEhWiKXk\"\n",
    "yt = YouTube(link)\n",
    "filename=link.split(\"/\")[-1]+\".mp4\"  #Giving a filename\n",
    "\n",
    "#Choosing a 360p MP4 video\n",
    "mp4_files = yt.streams.filter(file_extension=\"mp4\").get_by_resolution(\"360p\")\n",
    "mp4_files.download(filename=filename)"
   ]
  },
  {
   "cell_type": "markdown",
   "id": "71cdfbaf",
   "metadata": {},
   "source": [
    "# Extracting Frames"
   ]
  },
  {
   "cell_type": "code",
   "execution_count": null,
   "id": "46dd6563",
   "metadata": {},
   "outputs": [],
   "source": [
    "#Importing CV2\n",
    "import cv2\n",
    "from PIL import Image"
   ]
  },
  {
   "cell_type": "code",
   "execution_count": null,
   "id": "8d9bd2c7",
   "metadata": {},
   "outputs": [],
   "source": [
    "#Capturing Frames into an Array\n",
    "cap = cv2.VideoCapture(filename)\n",
    "video_frames=[]\n",
    "N=60 #Skip Frames\n",
    "frame_num=0\n",
    "fps=cap.get(cv2.CAP_PROP_FPS)\n",
    "while cap.isOpened():\n",
    "    ret, frame = cap.read()\n",
    "    if not ret:\n",
    "        break\n",
    "    video_frames.append(Image.fromarray(frame[:, :, ::-1]))\n",
    "    frame_num += N\n",
    "    cap.set(cv2.CAP_PROP_POS_FRAMES, frame_num) #Skipping Frames\n",
    "cap.release()"
   ]
  },
  {
   "cell_type": "code",
   "execution_count": null,
   "id": "3beee477",
   "metadata": {},
   "outputs": [],
   "source": [
    "#Number of Frames Captured\n",
    "len(video_frames)"
   ]
  },
  {
   "cell_type": "markdown",
   "id": "0460a5a3",
   "metadata": {},
   "source": [
    "# Feature Extraction"
   ]
  },
  {
   "cell_type": "code",
   "execution_count": null,
   "id": "cf92000d",
   "metadata": {},
   "outputs": [],
   "source": [
    "#Imports for Using CLIP\n",
    "import torch\n",
    "import clip\n",
    "from PIL import Image\n",
    "import math\n",
    "import numpy \n",
    "\n",
    "#Model Import\n",
    "device = \"cuda\" if torch.cuda.is_available() else \"cpu\"\n",
    "model, preprocess = clip.load(\"ViT-B/32\", device=device)"
   ]
  },
  {
   "cell_type": "code",
   "execution_count": null,
   "id": "2d24e57f",
   "metadata": {},
   "outputs": [],
   "source": [
    "#Preprocessor we get for applying various transformers on Image\n",
    "preprocess"
   ]
  },
  {
   "cell_type": "code",
   "execution_count": null,
   "id": "a0295b8b",
   "metadata": {},
   "outputs": [],
   "source": [
    "#Setting Batch Size and splitting in batches\n",
    "batch_size = 256\n",
    "batches = math.ceil(len(video_frames) / batch_size)"
   ]
  },
  {
   "cell_type": "code",
   "execution_count": null,
   "id": "b9884553",
   "metadata": {},
   "outputs": [],
   "source": [
    "#To Store Encoded Frames\n",
    "video_features = torch.empty([0, 512], dtype=torch.float16).to(device) \n",
    "\n",
    "#Frames Processing\n",
    "for i in range(batches):\n",
    "    print(f\"Processing batch {i+1}/{batches}\")\n",
    "    batch_frames = video_frames[i*batch_size : (i+1)*batch_size] #Getting the i'th Batch\n",
    "    #Preprocessing batch\n",
    "    batch_preprocessed = torch.stack([preprocess(frame) for frame in batch_frames]).to(device)\n",
    "    with torch.no_grad():\n",
    "        batch_features = model.encode_image(batch_preprocessed)  #Encoding \n",
    "        batch_features /= batch_features.norm(dim=-1, keepdim=True)\n",
    "    video_features = torch.cat((video_features, batch_features)) #Adding to video_features\n",
    "# Print some stats\n",
    "print(f\"Features Shape: {video_features.shape}\")"
   ]
  },
  {
   "cell_type": "code",
   "execution_count": null,
   "id": "24c29cfc",
   "metadata": {},
   "outputs": [],
   "source": [
    "# Encode and normalize the search query using CLIP\n",
    "with torch.no_grad():\n",
    "    text_features = model.encode_text(clip.tokenize(\"man playing piano\").to(device))\n",
    "    text_features /= text_features.norm(dim=-1, keepdim=True)"
   ]
  },
  {
   "cell_type": "code",
   "execution_count": null,
   "id": "023540a6",
   "metadata": {},
   "outputs": [],
   "source": [
    "# Compute the similarity between the search query and each frame using the Cosine similarity\n",
    "similarities = (100.0 * video_features @ text_features.T)\n",
    "values, best_photo_idx = similarities.topk(3, dim=0)"
   ]
  },
  {
   "cell_type": "code",
   "execution_count": null,
   "id": "438c5327",
   "metadata": {},
   "outputs": [],
   "source": [
    "type(similarities)"
   ]
  },
  {
   "cell_type": "code",
   "execution_count": null,
   "id": "e6774640",
   "metadata": {},
   "outputs": [],
   "source": [
    "#Indexes of best matches\n",
    "best_photo_idx"
   ]
  },
  {
   "cell_type": "code",
   "execution_count": null,
   "id": "33fb091f",
   "metadata": {},
   "outputs": [],
   "source": [
    "similarities[:10]"
   ]
  },
  {
   "cell_type": "code",
   "execution_count": null,
   "id": "0b0effb0",
   "metadata": {},
   "outputs": [],
   "source": [
    "#Heatmap of Video Search\n",
    "import matplotlib.pyplot as plt\n",
    "print(\"Search query heatmap over the frames of the video:\")\n",
    "plt.figure(figsize=(15,0.5))\n",
    "plt.imshow(similarities.T.cpu().numpy())\n",
    "\n",
    "plt.show()"
   ]
  },
  {
   "cell_type": "code",
   "execution_count": null,
   "id": "8ef66ff5",
   "metadata": {},
   "outputs": [],
   "source": [
    "import datetime\n",
    "#Function to search and give timestamp\n",
    "def search_video(search_query):\n",
    "    with torch.no_grad():\n",
    "        text_features = model.encode_text(clip.tokenize(search_query).to(device))\n",
    "        text_features /= text_features.norm(dim=-1, keepdim=True)\n",
    "    \n",
    "    similarities = (100.0 * video_features @ text_features.T)\n",
    "    values, best_photo_idx = similarities.topk(3, dim=0)\n",
    "    \n",
    "    # Display the top 3 frames\n",
    "    for frame_id in best_photo_idx:\n",
    "        display(video_frames[frame_id])\n",
    "        # Find the timestamp in the video and display it\n",
    "        seconds = round(frame_id.cpu().numpy()[0] * N / fps)\n",
    "        print(str(datetime.timedelta(seconds=seconds)))"
   ]
  },
  {
   "cell_type": "code",
   "execution_count": null,
   "id": "8b71874f",
   "metadata": {},
   "outputs": [],
   "source": [
    "search_video(\"man playing piano\")"
   ]
  },
  {
   "cell_type": "markdown",
   "id": "6c32c509",
   "metadata": {},
   "source": [
    "# Making functions"
   ]
  },
  {
   "cell_type": "code",
   "execution_count": null,
   "id": "2d8b81b8",
   "metadata": {},
   "outputs": [],
   "source": [
    "#Imports\n",
    "from pytube import YouTube \n",
    "import cv2\n",
    "import torch\n",
    "import clip\n",
    "from PIL import Image\n",
    "import math\n",
    "import numpy \n",
    "import datetime"
   ]
  },
  {
   "cell_type": "code",
   "execution_count": null,
   "id": "42fa328d",
   "metadata": {},
   "outputs": [],
   "source": [
    "def video_download(link):\n",
    "    print(\"Video Downloading\")\n",
    "    #Downloading a Youtube Video\n",
    "    yt = YouTube(link)\n",
    "    filename=link.split(\"/\")[-1]+\".mp4\"  #Giving a filename\n",
    "    #Choosing a 360p MP4 video\n",
    "    mp4_files = yt.streams.filter(file_extension=\"mp4\")\n",
    "    mp4_files = mp4_files.get_by_resolution(\"360p\")\n",
    "    mp4_files.download(filename=filename)\n",
    "    return filename\n",
    "def video_frames_capture(filename):\n",
    "    print(\"Frames Capturing...\")\n",
    "    #Capturing Frames into an Array\n",
    "    cap = cv2.VideoCapture(filename)\n",
    "    video_frames=[]\n",
    "    N=60 #Skip Frames\n",
    "    frame_num=0\n",
    "    fps=cap.get(cv2.CAP_PROP_FPS)\n",
    "    while cap.isOpened():\n",
    "        ret, frame = cap.read()\n",
    "        if not ret:\n",
    "            break\n",
    "        video_frames.append(Image.fromarray(frame[:, :, ::-1]))\n",
    "        frame_num += N\n",
    "        cap.set(cv2.CAP_PROP_POS_FRAMES, frame_num) #Skipping Frames\n",
    "    cap.release()\n",
    "    return video_frames\n",
    "def frame_classifier(video_frames):\n",
    "    #Setting Batch Size and splitting in batches\n",
    "    batch_size = 256\n",
    "    batches = math.ceil(len(video_frames) / batch_size)\n",
    "    #To Store Encoded Frames\n",
    "    video_features = torch.empty([0, 512], dtype=torch.float16).to(device) \n",
    "\n",
    "    #Frames Processing\n",
    "    for i in range(batches):\n",
    "        print(f\"Processing batch {i+1}/{batches}\")\n",
    "        batch_frames = video_frames[i*batch_size : (i+1)*batch_size] #Getting the i'th Batch\n",
    "        #Preprocessing batch\n",
    "        batch_preprocessed = torch.stack([preprocess(frame) for frame in batch_frames]).to(device)\n",
    "        with torch.no_grad():\n",
    "            batch_features = model.encode_image(batch_preprocessed)  #Encoding \n",
    "            batch_features /= batch_features.norm(dim=-1, keepdim=True)\n",
    "        video_features = torch.cat((video_features, batch_features)) #Adding to video_features\n",
    "        # Print some stats\n",
    "        print(f\"Features Shape: {video_features.shape}\")\n",
    "    return video_features\n",
    "import datetime\n",
    "#Function to search and give timestamp\n",
    "def search_video_link(search_query,link):\n",
    "    video=video_download(link)\n",
    "    video_frames_captured=video_frames_capture(video)\n",
    "    video_frames=frame_classifier(video_frames_captured)\n",
    "    with torch.no_grad():\n",
    "        text_features = model.encode_text(clip.tokenize(search_query).to(device))\n",
    "        text_features /= text_features.norm(dim=-1, keepdim=True)\n",
    "    similarities = (100.0 * video_features @ text_features.T)\n",
    "    values, best_photo_idx = similarities.topk(3, dim=0)\n",
    "    # Display the top 3 frames\n",
    "    for frame_id in best_photo_idx:\n",
    "        display(video_frames_captured[frame_id])\n",
    "        # Find the timestamp in the video and display it\n",
    "        seconds = round(frame_id.cpu().numpy()[0] * N / fps)\n",
    "        print(str(datetime.timedelta(seconds=seconds)))"
   ]
  },
  {
   "cell_type": "code",
   "execution_count": null,
   "id": "b1d5aac6",
   "metadata": {},
   "outputs": [],
   "source": [
    "search_video_link(\"Man ringins bell\",\"https://youtu.be/LjhCEhWiKXk\")"
   ]
  },
  {
   "cell_type": "code",
   "execution_count": null,
   "id": "2b566f45",
   "metadata": {},
   "outputs": [],
   "source": [
    "search_video_link(\"Cassettle Tape\",\"https://youtu.be/LjhCEhWiKXk\")"
   ]
  }
 ],
 "metadata": {
  "kernelspec": {
   "display_name": "Python 3 (ipykernel)",
   "language": "python",
   "name": "python3"
  },
  "language_info": {
   "codemirror_mode": {
    "name": "ipython",
    "version": 3
   },
   "file_extension": ".py",
   "mimetype": "text/x-python",
   "name": "python",
   "nbconvert_exporter": "python",
   "pygments_lexer": "ipython3",
   "version": "3.10.6"
  }
 },
 "nbformat": 4,
 "nbformat_minor": 5
}
